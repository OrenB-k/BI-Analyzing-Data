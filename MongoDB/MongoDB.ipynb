{
 "cells": [
  {
   "cell_type": "code",
   "execution_count": null,
   "metadata": {},
   "outputs": [],
   "source": [
    "db.inventory.insertMany([\n",
    "   { item: \"journal\", qty: 25, tags: [\"blank\", \"red\"], size: { h: 14, w: 21, uom: \"cm\" } },\n",
    "   { item: \"mat\", qty: 85, tags: [\"gray\"], size: { h: 27.9, w: 35.5, uom: \"cm\" } },\n",
    "   { item: \"mousepad\", qty: 25, tags: [\"gel\", \"blue\"], size: { h: 19, w: 22.85, uom: \"cm\" } }\n",
    "])"
   ]
  },
  {
   "cell_type": "code",
   "execution_count": null,
   "metadata": {},
   "outputs": [],
   "source": [
    "#In MongoDB, each document(ROW) stored in a collection(TABLE) requires a unique _id field that acts as a primary key.\n",
    "#If an inserted document omits the _id field, \n",
    "#the MongoDB driver automatically generates an ObjectId for the _id field.\n",
    "\n",
    "#SELECT * FROM inventory\n",
    "db.inventory.find( {} )"
   ]
  },
  {
   "cell_type": "code",
   "execution_count": null,
   "metadata": {},
   "outputs": [],
   "source": [
    "#Specify Equality Condition\n",
    "#SELECT * FROM inventory WHERE status = \"D\"\n",
    "db.inventory.find( { status: \"D\" } )"
   ]
  },
  {
   "cell_type": "code",
   "execution_count": null,
   "metadata": {},
   "outputs": [],
   "source": [
    "#SELECT * FROM inventory WHERE status in (\"A\", \"D\")\n",
    "db.inventory.find( { status: { $in: [ \"A\", \"D\" ] } } )"
   ]
  },
  {
   "cell_type": "code",
   "execution_count": null,
   "metadata": {},
   "outputs": [],
   "source": [
    "#SELECT * FROM inventory WHERE status = \"A\" AND qty < 30\n",
    "db.inventory.find( { status: \"A\", qty: { $lt: 30 } } )"
   ]
  },
  {
   "cell_type": "code",
   "execution_count": null,
   "metadata": {},
   "outputs": [],
   "source": [
    "#SELECT * FROM inventory WHERE status = \"A\" OR qty < 30\n",
    "db.inventory.find( { $or: [ { status: \"A\" }, { qty: { $lt: 30 } } ] } )"
   ]
  },
  {
   "cell_type": "code",
   "execution_count": null,
   "metadata": {},
   "outputs": [],
   "source": [
    "#SELECT * FROM inventory WHERE status = \"A\" AND ( qty < 30 OR item LIKE \"p%\")\n",
    "db.inventory.find( {\n",
    "     status: \"A\",\n",
    "     $or: [ { qty: { $lt: 30 } }, { item: /^p/ } ]\n",
    "} )"
   ]
  },
  {
   "cell_type": "code",
   "execution_count": null,
   "metadata": {},
   "outputs": [],
   "source": [
    "#Match an Nested Document\n",
    "db.inventory.find( { size: { h: 14, w: 21, uom: \"cm\" } } )\n",
    "# the following query does not match any documents in the inventory collection:order \n",
    "#the field(column) size\n",
    "db.inventory.find(  { size: { w: 21, h: 14, uom: \"cm\" } }  )"
   ]
  },
  {
   "cell_type": "code",
   "execution_count": null,
   "metadata": {},
   "outputs": [],
   "source": [
    "# selects all documents where the field uom nested in the size field equals \"in\"\n",
    "db.inventory.find( { \"size.uom\": \"in\" } )"
   ]
  },
  {
   "cell_type": "code",
   "execution_count": null,
   "metadata": {},
   "outputs": [],
   "source": [
    "db.inventory.find( { \"size.h\": { $lt: 15 }, \"size.uom\": \"in\", status: \"D\" } )"
   ]
  },
  {
   "cell_type": "code",
   "execution_count": null,
   "metadata": {},
   "outputs": [],
   "source": []
  },
  {
   "cell_type": "code",
   "execution_count": null,
   "metadata": {},
   "outputs": [],
   "source": []
  },
  {
   "cell_type": "code",
   "execution_count": null,
   "metadata": {},
   "outputs": [],
   "source": [
    "#Query an Array \n",
    "db.inventory.insertMany([\n",
    "   { item: \"journal\", qty: 25, tags: [\"blank\", \"red\"], dim_cm: [ 14, 21 ] },\n",
    "   { item: \"notebook\", qty: 50, tags: [\"red\", \"blank\"], dim_cm: [ 14, 21 ] },\n",
    "   { item: \"paper\", qty: 100, tags: [\"red\", \"blank\", \"plain\"], dim_cm: [ 14, 21 ] },\n",
    "   { item: \"planner\", qty: 75, tags: [\"blank\", \"red\"], dim_cm: [ 22.85, 30 ] },\n",
    "   { item: \"postcard\", qty: 45, tags: [\"blue\"], dim_cm: [ 10, 15.25 ] }\n",
    "]);"
   ]
  },
  {
   "cell_type": "code",
   "execution_count": null,
   "metadata": {},
   "outputs": [],
   "source": [
    "#specified order\n",
    "db.inventory.find( { tags: [\"red\", \"blank\"] } )\n",
    "# without regard to order or other elements \n",
    "db.inventory.find( { tags: { $all: [\"red\", \"blank\"] } } )"
   ]
  },
  {
   "cell_type": "code",
   "execution_count": null,
   "metadata": {},
   "outputs": [],
   "source": [
    "#queries for all documents where the array dim_cm contains at least one element \n",
    "#whose value is greater than 25\n",
    "db.inventory.find( { dim_cm: { $gt: 25 } } )\n"
   ]
  },
  {
   "cell_type": "code",
   "execution_count": null,
   "metadata": {},
   "outputs": [],
   "source": [
    "#Multiple Conditions for Array Elements\n",
    "#at least one element that is both greater than ($gt) 22 and less than ($lt) 30\n",
    "db.inventory.find( { dim_cm: { $elemMatch: { $gt: 22, $lt: 30 } } } )"
   ]
  },
  {
   "cell_type": "code",
   "execution_count": null,
   "metadata": {},
   "outputs": [],
   "source": [
    "#the second element in the array dim_cm is greater than 25\n",
    "db.inventory.find( { \"dim_cm.1\": { $gt: 25 } } )"
   ]
  },
  {
   "cell_type": "code",
   "execution_count": null,
   "metadata": {},
   "outputs": [],
   "source": [
    "#selects documents where the array tags has 3 elements.\n",
    "db.inventory.find( { \"tags\": { $size: 3 } } )"
   ]
  },
  {
   "cell_type": "code",
   "execution_count": null,
   "metadata": {},
   "outputs": [],
   "source": [
    "db.inventory.insertMany( [\n",
    "   { item: \"journal\", instock: [ { warehouse: \"A\", qty: 5 }, { warehouse: \"C\", qty: 15 } ] },\n",
    "   { item: \"notebook\", instock: [ { warehouse: \"C\", qty: 5 } ] },\n",
    "   { item: \"paper\", instock: [ { warehouse: \"A\", qty: 60 }, { warehouse: \"B\", qty: 15 } ] },\n",
    "   { item: \"planner\", instock: [ { warehouse: \"A\", qty: 40 }, { warehouse: \"B\", qty: 5 } ] },\n",
    "   { item: \"postcard\", instock: [ { warehouse: \"B\", qty: 15 }, { warehouse: \"C\", qty: 35 } ] }\n",
    "]);"
   ]
  },
  {
   "cell_type": "code",
   "execution_count": null,
   "metadata": {},
   "outputs": [],
   "source": [
    "#Query for a Document Nested in an Array\n",
    "db.inventory.find( { \"instock\": { warehouse: \"A\", qty: 5 } } )\n",
    "#Equality matches on the whole embedded/nested document require \n",
    "#an exact match of the specified document including the field order\n",
    "db.inventory.find( { \"instock\": { qty: 5, warehouse: \"A\" } } )\n",
    "#the same results like the first query\n",
    "db.inventory.find( { \"instock\": { $elemMatch: { qty: 5, warehouse: \"A\" } } } )"
   ]
  },
  {
   "cell_type": "code",
   "execution_count": null,
   "metadata": {},
   "outputs": [],
   "source": [
    "db.inventory.find( { \"instock.qty\": 5, \"instock.warehouse\": \"A\" } )\n",
    "#results:\n",
    "#   { item: \"journal\", instock: [ { warehouse: \"A\", qty: 5 }, { warehouse: \"C\", qty: 15 } ] },\n",
    "#   { item: \"planner\", instock: [ { warehouse: \"A\", qty: 40 }, { warehouse: \"B\", qty: 5 } ] },\n"
   ]
  },
  {
   "cell_type": "code",
   "execution_count": null,
   "metadata": {},
   "outputs": [],
   "source": [
    "#Return the Specified Fields and the _id \n",
    "#SELECT _id, item, status from inventory WHERE status = \"A\"\n",
    "db.inventory.find( { status: \"A\" }, { item: 1, status: 1 } )\n",
    "#SELECT item, status from inventory WHERE status = \"A\"\n",
    "db.inventory.find( { status: \"A\" }, { item: 1, status: 1,_id:0 } )\n"
   ]
  },
  {
   "cell_type": "code",
   "execution_count": null,
   "metadata": {},
   "outputs": [],
   "source": [
    "#Return All But the Excluded Fields\n",
    "db.inventory.find( { status: \"A\" }, { status: 0, instock: 0 } )\n"
   ]
  },
  {
   "cell_type": "code",
   "execution_count": null,
   "metadata": {},
   "outputs": [],
   "source": [
    "#Return Specific Fields in Embedded Documents\n",
    "db.inventory.find(\n",
    "   { status: \"A\" },\n",
    "   { item: 1, status: 1, \"size.uom\": 1 }\n",
    ")\n",
    "#All other fields are returned in the matching documents\n",
    "db.inventory.find(\n",
    "   { status: \"A\" },\n",
    "   { \"size.uom\": 0 }\n",
    ")\n"
   ]
  },
  {
   "cell_type": "code",
   "execution_count": null,
   "metadata": {},
   "outputs": [],
   "source": [
    "#Projection on Embedded Documents in an Array\n",
    "db.inventory.find( { status: \"A\" }, { item: 1, status: 1, \"instock.qty\": 1 } )\n",
    "# $slice- $slice projection operator to return the last element in the instock array:\n",
    "db.inventory.find( { status: \"A\" }, { item: 1, status: 1, instock: { $slice: -1 } } )\n"
   ]
  },
  {
   "cell_type": "code",
   "execution_count": null,
   "metadata": {},
   "outputs": [],
   "source": [
    "#Query for Null or Missing Fields"
   ]
  },
  {
   "cell_type": "code",
   "execution_count": null,
   "metadata": {},
   "outputs": [],
   "source": [
    "#The { item : null } query matches documents that either contain the item field \n",
    "#whose value is null or that do not\n",
    "#contain the item field.\n",
    "\n",
    "db.inventory.insertMany([\n",
    "   { _id: 1, item: null },\n",
    "   { _id: 2 }\n",
    "])\n",
    "#Equality Filter\n",
    "#{ _id: 1, item: null },\n",
    "#{ _id: 2 }\n",
    "db.inventory.find( { item: null } )\n",
    "\n",
    "#Type Check\n",
    "#{ _id: 1, item: null }\n",
    "db.inventory.find( { item : { $type: 10 } } )\n",
    "\n",
    "#Existence Check\n",
    "#The { item : { $exists: false } } query matches documents that do not contain \n",
    "#the item field:\n",
    "#{ _id: 2 }\n",
    "db.inventory.find( { item : { $exists: false } } )\n",
    "\n",
    "\n"
   ]
  },
  {
   "cell_type": "code",
   "execution_count": null,
   "metadata": {},
   "outputs": [],
   "source": [
    "#update"
   ]
  },
  {
   "cell_type": "code",
   "execution_count": null,
   "metadata": {},
   "outputs": [],
   "source": [
    "db.inventory.insertMany( [\n",
    "   { item: \"canvas\", qty: 100, size: { h: 28, w: 35.5, uom: \"cm\" }, status: \"A\" },\n",
    "   { item: \"journal\", qty: 25, size: { h: 14, w: 21, uom: \"cm\" }, status: \"A\" },\n",
    "   { item: \"mat\", qty: 85, size: { h: 27.9, w: 35.5, uom: \"cm\" }, status: \"A\" },\n",
    "   { item: \"mousepad\", qty: 25, size: { h: 19, w: 22.85, uom: \"cm\" }, status: \"P\" },\n",
    "   { item: \"notebook\", qty: 50, size: { h: 8.5, w: 11, uom: \"in\" }, status: \"P\" },\n",
    "   { item: \"paper\", qty: 100, size: { h: 8.5, w: 11, uom: \"in\" }, status: \"D\" },\n",
    "   { item: \"planner\", qty: 75, size: { h: 22.85, w: 30, uom: \"cm\" }, status: \"D\" },\n",
    "   { item: \"postcard\", qty: 45, size: { h: 10, w: 15.25, uom: \"cm\" }, status: \"A\" },\n",
    "   { item: \"sketchbook\", qty: 80, size: { h: 14, w: 21, uom: \"cm\" }, status: \"A\" },\n",
    "   { item: \"sketch pad\", qty: 95, size: { h: 22.85, w: 30.5, uom: \"cm\" }, status: \"A\" }\n",
    "] );"
   ]
  },
  {
   "cell_type": "code",
   "execution_count": null,
   "metadata": {},
   "outputs": [],
   "source": [
    "#update the first document where item equals \"paper\"\n",
    "#Update a Single Document\n",
    "db.inventory.updateOne(\n",
    "   { item: \"paper\" },\n",
    "   {\n",
    "     $set: { \"size.uom\": \"cm\", status: \"P\" },\n",
    "     $currentDate: { lastModified: true }\n",
    "   }\n",
    ")\n",
    "#Update Multiple Documents\n",
    "db.inventory.updateMany(\n",
    "   { \"qty\": { $lt: 50 } },\n",
    "   {\n",
    "     $set: { \"size.uom\": \"in\", status: \"P\" },\n",
    "     $currentDate: { lastModified: true }\n",
    "   }\n",
    ")\n",
    "#Replace a Document\n",
    "db.inventory.replaceOne(\n",
    "   { item: \"paper\" },\n",
    "   { item: \"paper\", instock: [ { warehouse: \"A\", qty: 60 }, { warehouse: \"B\", qty: 40 } ] }\n",
    ")"
   ]
  },
  {
   "cell_type": "code",
   "execution_count": null,
   "metadata": {},
   "outputs": [],
   "source": [
    "db.students3.insert([\n",
    "   { \"_id\" : 1, \"tests\" : [ 95, 92, 90 ], \"modified\" : ISODate(\"2019-01-01T00:00:00Z\") },\n",
    "   { \"_id\" : 2, \"tests\" : [ 94, 88, 90 ], \"modified\" : ISODate(\"2019-01-01T00:00:00Z\") },\n",
    "   { \"_id\" : 3, \"tests\" : [ 70, 75, 82 ], \"modified\" : ISODate(\"2019-01-01T00:00:00Z\") }\n",
    "]);"
   ]
  },
  {
   "cell_type": "code",
   "execution_count": null,
   "metadata": {},
   "outputs": [],
   "source": [
    "db.students3.updateMany(\n",
    "   { },\n",
    "   [\n",
    "     { $set: { average : { $trunc: [ { $avg: \"$tests\" }, 0 ] }, modified: \"$$NOW\" } },\n",
    "     { $set: { grade: { $switch: {\n",
    "                           branches: [\n",
    "                               { case: { $gte: [ \"$average\", 90 ] }, then: \"A\" },\n",
    "                               { case: { $gte: [ \"$average\", 80 ] }, then: \"B\" },\n",
    "                               { case: { $gte: [ \"$average\", 70 ] }, then: \"C\" },\n",
    "                               { case: { $gte: [ \"$average\", 60 ] }, then: \"D\" }\n",
    "                           ],\n",
    "                           default: \"F\"\n",
    "     } } } }\n",
    "   ]\n",
    ")"
   ]
  },
  {
   "cell_type": "code",
   "execution_count": null,
   "metadata": {},
   "outputs": [],
   "source": [
    "\n",
    "db.orders.insertMany([\n",
    "   { _id: 1, cust_id: \"Ant O. Knee\", ord_date: new Date(\"2020-03-01\"), price: 25, items: [ { sku: \"oranges\", qty: 5, price: 2.5 }, { sku: \"apples\", qty: 5, price: 2.5 } ], status: \"A\" },\n",
    "   { _id: 2, cust_id: \"Ant O. Knee\", ord_date: new Date(\"2020-03-08\"), price: 70, items: [ { sku: \"oranges\", qty: 8, price: 2.5 }, { sku: \"chocolates\", qty: 5, price: 10 } ], status: \"A\" },\n",
    "   { _id: 3, cust_id: \"Busby Bee\", ord_date: new Date(\"2020-03-08\"), price: 50, items: [ { sku: \"oranges\", qty: 10, price: 2.5 }, { sku: \"pears\", qty: 10, price: 2.5 } ], status: \"A\" },\n",
    "   { _id: 4, cust_id: \"Busby Bee\", ord_date: new Date(\"2020-03-18\"), price: 25, items: [ { sku: \"oranges\", qty: 10, price: 2.5 } ], status: \"A\" },\n",
    "   { _id: 5, cust_id: \"Busby Bee\", ord_date: new Date(\"2020-03-19\"), price: 50, items: [ { sku: \"chocolates\", qty: 5, price: 10 } ], status: \"A\"},\n",
    "   { _id: 6, cust_id: \"Cam Elot\", ord_date: new Date(\"2020-03-19\"), price: 35, items: [ { sku: \"carrots\", qty: 10, price: 1.0 }, { sku: \"apples\", qty: 10, price: 2.5 } ], status: \"A\" },\n",
    "   { _id: 7, cust_id: \"Cam Elot\", ord_date: new Date(\"2020-03-20\"), price: 25, items: [ { sku: \"oranges\", qty: 10, price: 2.5 } ], status: \"A\" },\n",
    "   { _id: 8, cust_id: \"Don Quis\", ord_date: new Date(\"2020-03-20\"), price: 75, items: [ { sku: \"chocolates\", qty: 5, price: 10 }, { sku: \"apples\", qty: 10, price: 2.5 } ], status: \"A\" },\n",
    "   { _id: 9, cust_id: \"Don Quis\", ord_date: new Date(\"2020-03-20\"), price: 55, items: [ { sku: \"carrots\", qty: 5, price: 1.0 }, { sku: \"apples\", qty: 10, price: 2.5 }, { sku: \"oranges\", qty: 10, price: 2.5 } ], status: \"A\" },\n",
    "   { _id: 10, cust_id: \"Don Quis\", ord_date: new Date(\"2020-03-23\"), price: 25, items: [ { sku: \"oranges\", qty: 10, price: 2.5 } ], status: \"A\" }\n",
    "])"
   ]
  },
  {
   "cell_type": "code",
   "execution_count": null,
   "metadata": {},
   "outputs": [],
   "source": [
    "#MapReduce\n",
    "var mapFunction1 = function() {\n",
    "   emit(this.cust_id, this.price);\n",
    "};"
   ]
  },
  {
   "cell_type": "code",
   "execution_count": null,
   "metadata": {},
   "outputs": [],
   "source": [
    "var reduceFunction1 = function(keyCustId, valuesPrices) {\n",
    "   return Array.sum(valuesPrices);\n",
    "};"
   ]
  },
  {
   "cell_type": "code",
   "execution_count": null,
   "metadata": {},
   "outputs": [],
   "source": [
    "db.orders.mapReduce(\n",
    "   mapFunction1,\n",
    "   reduceFunction1,\n",
    "   { out: \"map_reduce_example\" }\n",
    ")"
   ]
  }
 ],
 "metadata": {
  "kernelspec": {
   "display_name": "Python 3",
   "language": "python",
   "name": "python3"
  },
  "language_info": {
   "codemirror_mode": {
    "name": "ipython",
    "version": 3
   },
   "file_extension": ".py",
   "mimetype": "text/x-python",
   "name": "python",
   "nbconvert_exporter": "python",
   "pygments_lexer": "ipython3",
   "version": "3.7.3"
  }
 },
 "nbformat": 4,
 "nbformat_minor": 2
}
