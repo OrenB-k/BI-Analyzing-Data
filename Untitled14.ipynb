{
 "cells": [
  {
   "cell_type": "code",
   "execution_count": 5,
   "metadata": {},
   "outputs": [
    {
     "data": {
      "text/plain": [
       "1"
      ]
     },
     "execution_count": 5,
     "metadata": {},
     "output_type": "execute_result"
    }
   ],
   "source": [
    "def fib(n):\n",
    "    if n == 1:\n",
    "        return 0 \n",
    "    elif n == 2:\n",
    "        return 1\n",
    "    else:\n",
    "        return fib(n-1) + fib(n-2)\n",
    "fib(3)    "
   ]
  },
  {
   "cell_type": "code",
   "execution_count": null,
   "metadata": {},
   "outputs": [],
   "source": []
  },
  {
   "cell_type": "code",
   "execution_count": 17,
   "metadata": {},
   "outputs": [
    {
     "name": "stdout",
     "output_type": "stream",
     "text": [
      "0\n",
      "1\n",
      "1\n",
      "2\n",
      "3\n",
      "5\n",
      "8\n"
     ]
    }
   ],
   "source": [
    "def fib(num):\n",
    "    firstNum=0\n",
    "    secondNum=1\n",
    "    for i in range(0,num):\n",
    "        print(firstNum)\n",
    "        firstNum,secondNum=secondNum,firstNum + secondNum\n",
    "        \n",
    "fib(7)"
   ]
  },
  {
   "cell_type": "code",
   "execution_count": 3,
   "metadata": {},
   "outputs": [
    {
     "data": {
      "text/plain": [
       "120"
      ]
     },
     "execution_count": 3,
     "metadata": {},
     "output_type": "execute_result"
    }
   ],
   "source": [
    "def factorial(num):\n",
    "    res = 1\n",
    "    for i in range(2,num+1):\n",
    "        res *= i\n",
    "    return(res) \n",
    "\n",
    "factorial(5)        "
   ]
  },
  {
   "cell_type": "code",
   "execution_count": 5,
   "metadata": {},
   "outputs": [
    {
     "name": "stdout",
     "output_type": "stream",
     "text": [
      "120\n"
     ]
    }
   ],
   "source": [
    "def fac(n):\n",
    "    if n == 1:\n",
    "        return 1\n",
    "    \n",
    "    return fac(n-1)*n\n",
    "  \n",
    "            \n",
    "    \n",
    "print(fac(5))  "
   ]
  },
  {
   "cell_type": "code",
   "execution_count": 27,
   "metadata": {},
   "outputs": [
    {
     "name": "stdout",
     "output_type": "stream",
     "text": [
      "4\n"
     ]
    }
   ],
   "source": [
    "a=13\n",
    "b=3\n",
    "c= int(a//b)\n",
    "print (c)"
   ]
  },
  {
   "cell_type": "code",
   "execution_count": 33,
   "metadata": {},
   "outputs": [
    {
     "data": {
      "text/plain": [
       "'D1CB5A'"
      ]
     },
     "execution_count": 33,
     "metadata": {},
     "output_type": "execute_result"
    }
   ],
   "source": [
    "def revString(string):\n",
    "    s = '' \n",
    "    for i in range(0,len(string)):\n",
    "        if not string[i].isdigit():\n",
    "                   s = string[i]+s\n",
    "    res = ''\n",
    "    resIndex=0\n",
    "    for i in range(0,len(string)):\n",
    "        if string[i].isdigit():\n",
    "            res += string[i]\n",
    "        else:\n",
    "            res += s[resIndex]\n",
    "            resIndex+=1\n",
    "    return res            \n",
    "revString('A1BC5D')                   "
   ]
  },
  {
   "cell_type": "code",
   "execution_count": 11,
   "metadata": {},
   "outputs": [
    {
     "name": "stdout",
     "output_type": "stream",
     "text": [
      "17 prime: \n"
     ]
    }
   ],
   "source": [
    "def primNum(num):\n",
    "    isPrime=True\n",
    "    for i in range (2,num):\n",
    "        if num % i == 0:\n",
    "            isPrime=False\n",
    "    if isPrime:\n",
    "        print(num,'prime: ')\n",
    "    else:\n",
    "        print('Not prime:',num)\n",
    "            \n",
    "primNum(17)           \n",
    "            "
   ]
  },
  {
   "cell_type": "code",
   "execution_count": 7,
   "metadata": {},
   "outputs": [
    {
     "data": {
      "text/plain": [
       "[11, 3, 2]"
      ]
     },
     "execution_count": 7,
     "metadata": {},
     "output_type": "execute_result"
    }
   ],
   "source": [
    "def bs(list):             # a = name of list\n",
    "    b=len(list)-1         # minus 1 because we always compare 2 adjacent values\n",
    "                             \n",
    "    for x in range(0,b):\n",
    "        for y in range(0,b-x):\n",
    "            if list[y] < list[y+1]:\n",
    "                list[y],list[y+1]=list[y+1],list[y]\n",
    "    return list\n",
    "a=[2,3,11]\n",
    "bs(a)"
   ]
  },
  {
   "cell_type": "code",
   "execution_count": null,
   "metadata": {},
   "outputs": [],
   "source": [
    "a=[32,2,3]\n",
    "a.sort()\n",
    "print (a)"
   ]
  },
  {
   "cell_type": "code",
   "execution_count": 5,
   "metadata": {},
   "outputs": [
    {
     "name": "stdout",
     "output_type": "stream",
     "text": [
      "enter sequencemm\n",
      "palindrome\n"
     ]
    }
   ],
   "source": [
    "a=input(\"enter sequence\")\n",
    "b= a[::-1]\n",
    "if a==b:\n",
    "    print(\"palindrome\")\n",
    "else:\n",
    "    print(\"Not a Palindrome\")"
   ]
  },
  {
   "cell_type": "code",
   "execution_count": 32,
   "metadata": {},
   "outputs": [
    {
     "name": "stdout",
     "output_type": "stream",
     "text": [
      "7\n"
     ]
    }
   ],
   "source": [
    "a=[32,5,3,6,7,54,87]\n",
    "b=len(a)\n",
    "print(b)"
   ]
  },
  {
   "cell_type": "code",
   "execution_count": 2,
   "metadata": {},
   "outputs": [
    {
     "name": "stdout",
     "output_type": "stream",
     "text": [
      "1\n",
      "2\n",
      "3\n",
      "5\n"
     ]
    }
   ],
   "source": [
    "def primNum(num):\n",
    "    isPrime = True\n",
    "    for i in range(1,num+1):\n",
    "        for j in range(2,i):\n",
    "            if i % j== 0:\n",
    "                isPrime= False\n",
    "        if isPrime:\n",
    "            print (i)\n",
    "        else:\n",
    "            isPrime= True\n",
    "            \n",
    "    \n",
    "primNum(5)               \n",
    "      "
   ]
  },
  {
   "cell_type": "code",
   "execution_count": 26,
   "metadata": {},
   "outputs": [
    {
     "name": "stdout",
     "output_type": "stream",
     "text": [
      "    X    \n",
      "   XXX   \n",
      "  XXXXX  \n",
      " XXXXXXX \n",
      "XXXXXXXXX\n"
     ]
    }
   ],
   "source": [
    "def trainPrint(rows):\n",
    "    for i in range(1,rows+1):\n",
    "        for j in range(0, rows - i):\n",
    "            print(\" \", end='')\n",
    "\n",
    "        for j in range(0, 2*i - 1):\n",
    "            print(\"X\", end='')\n",
    "                    \n",
    "        for j in range(0, rows - i):\n",
    "            print(\" \", end='')\n",
    "\n",
    "        print('')\n",
    "        \n",
    "trainPrint(5)"
   ]
  },
  {
   "cell_type": "code",
   "execution_count": 4,
   "metadata": {},
   "outputs": [
    {
     "ename": "SyntaxError",
     "evalue": "invalid syntax (<ipython-input-4-21d850f0997e>, line 18)",
     "output_type": "error",
     "traceback": [
      "\u001b[0;36m  File \u001b[0;32m\"<ipython-input-4-21d850f0997e>\"\u001b[0;36m, line \u001b[0;32m18\u001b[0m\n\u001b[0;31m    def checkParentesis(''()()'')\u001b[0m\n\u001b[0m                         ^\u001b[0m\n\u001b[0;31mSyntaxError\u001b[0m\u001b[0;31m:\u001b[0m invalid syntax\n"
     ]
    }
   ],
   "source": [
    "def checkParentesis(s):\n",
    "    counter = 0\n",
    "    \n",
    "    for i in range(0, len(s)):\n",
    "        if counter < 0:\n",
    "            return False\n",
    "        \n",
    "        if s[i] == \"(\":\n",
    "            counter += 1\n",
    "        elif s[i] == \")\":\n",
    "            counter -= 1\n",
    "        else:\n",
    "            return False\n",
    "    \n",
    "    return counter == 0\n",
    "                    \n",
    "        \n",
    "def checkParentesis(''()()'')\n",
    "\n"
   ]
  },
  {
   "cell_type": "code",
   "execution_count": null,
   "metadata": {},
   "outputs": [],
   "source": [
    "#7 boom\n",
    "for i in range(1,n+1):\n",
    "    if i%7 == 0:\n",
    "        print('Boom')\n",
    "    elif '7' in str(i):#מכיל את התו 7\n",
    "        print('Boom')\n",
    "    else:\n",
    "        print(i)"
   ]
  },
  {
   "cell_type": "code",
   "execution_count": 16,
   "metadata": {},
   "outputs": [
    {
     "data": {
      "text/plain": [
       "1"
      ]
     },
     "execution_count": 16,
     "metadata": {},
     "output_type": "execute_result"
    }
   ],
   "source": [
    "l1 = [1,5,8,3,7,0,9]\n",
    "\n",
    "def max(l):\n",
    "    if  len(l) == 0:\n",
    "        return False\n",
    "    indexOfNum=0\n",
    "    m = l[0]\n",
    "    for i in range(0,len(l)):\n",
    "        if m < l[i]:\n",
    "            m=l[i]\n",
    "        else:\n",
    "            indexOfNum += 1\n",
    "            for j in range(i,len(l)):\n",
    "                if m < l[j]:\n",
    "                    m=l[j]\n",
    "                return m    \n",
    "    \n",
    "        \n",
    "       \n",
    "            \n",
    "    return m\n",
    "    \n",
    "max(l1)"
   ]
  },
  {
   "cell_type": "code",
   "execution_count": 17,
   "metadata": {},
   "outputs": [
    {
     "data": {
      "text/plain": [
       "3"
      ]
     },
     "execution_count": 17,
     "metadata": {},
     "output_type": "execute_result"
    }
   ],
   "source": [
    "def getMaxSubSeqIndex(l):\n",
    "    max = l[0]\n",
    "    maxSeqIndex = 0\n",
    "    currentSeqIndex = 0\n",
    "    for i in  range(0, len(l)):\n",
    "        if i == len(l)-1 or l[i] > l[i+1]:\n",
    "            if max < l[i]:\n",
    "                max = l[i]\n",
    "                maxSeqIndex = currentSeqIndex\n",
    "            \n",
    "            currentSeqIndex += 1\n",
    "            \n",
    "    return maxSeqIndex     \n",
    "    \n",
    "\n",
    "l1 = [77,5,2,3,7,0,90,2]\n",
    "getMaxSubSeqIndex(l1)"
   ]
  },
  {
   "cell_type": "code",
   "execution_count": 38,
   "metadata": {},
   "outputs": [
    {
     "data": {
      "text/plain": [
       "'gnirts'"
      ]
     },
     "execution_count": 38,
     "metadata": {},
     "output_type": "execute_result"
    }
   ],
   "source": [
    "def revString(string):\n",
    "    s = '' \n",
    "    for i in range(0,len(string)):\n",
    "        s = string[i]+s\n",
    "    return s\n",
    "\n",
    "revString(\"string\")              "
   ]
  },
  {
   "cell_type": "code",
   "execution_count": 15,
   "metadata": {},
   "outputs": [
    {
     "data": {
      "text/plain": [
       "888"
      ]
     },
     "execution_count": 15,
     "metadata": {},
     "output_type": "execute_result"
    }
   ],
   "source": [
    "\n",
    "def max(array):\n",
    "    if len(array)==0:\n",
    "        return false\n",
    "    maxNum = array[0]\n",
    "    for i in range (1,len(array)):\n",
    "        if maxNum < array[i]:\n",
    "            maxNum=array[i]\n",
    "    return  maxNum       \n",
    "            \n",
    "l1 = [888,0,8,3,99,0,9]\n",
    "max(l1)  "
   ]
  },
  {
   "cell_type": "code",
   "execution_count": null,
   "metadata": {},
   "outputs": [],
   "source": [
    "def sevenBoom(Num):\n",
    "    for i in range()\n",
    "    "
   ]
  }
 ],
 "metadata": {
  "kernelspec": {
   "display_name": "Python 3",
   "language": "python",
   "name": "python3"
  },
  "language_info": {
   "codemirror_mode": {
    "name": "ipython",
    "version": 3
   },
   "file_extension": ".py",
   "mimetype": "text/x-python",
   "name": "python",
   "nbconvert_exporter": "python",
   "pygments_lexer": "ipython3",
   "version": "3.7.3"
  }
 },
 "nbformat": 4,
 "nbformat_minor": 2
}
